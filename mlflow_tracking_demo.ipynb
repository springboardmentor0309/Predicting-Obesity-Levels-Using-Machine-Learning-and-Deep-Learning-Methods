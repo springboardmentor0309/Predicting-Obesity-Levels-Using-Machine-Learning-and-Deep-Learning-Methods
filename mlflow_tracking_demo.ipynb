{
 "cells": [
  {
   "cell_type": "code",
   "execution_count": 1,
   "id": "bde68f08-df74-48d4-80ab-a407d89f9d32",
   "metadata": {},
   "outputs": [],
   "source": [
    "import mlflow"
   ]
  },
  {
   "cell_type": "code",
   "execution_count": 16,
   "id": "cc4f4570-df44-4b78-9e1e-57b9010f6391",
   "metadata": {},
   "outputs": [],
   "source": [
    "mlflow.set_tracking_uri(\"file:///C:/Users/91637/obesity predicting/mlruns\")"
   ]
  },
  {
   "cell_type": "code",
   "execution_count": 17,
   "id": "1e729497-99dd-4872-b108-ee3d8f772df8",
   "metadata": {},
   "outputs": [
    {
     "name": "stderr",
     "output_type": "stream",
     "text": [
      "2024/10/29 16:22:06 INFO mlflow.tracking.fluent: Experiment with name 'logistic' does not exist. Creating a new experiment.\n"
     ]
    },
    {
     "data": {
      "text/plain": [
       "<Experiment: artifact_location='file:///C:/Users/91637/obesity predicting/mlruns/192032176498569888', creation_time=1730199126829, experiment_id='192032176498569888', last_update_time=1730199126829, lifecycle_stage='active', name='logistic', tags={}>"
      ]
     },
     "execution_count": 17,
     "metadata": {},
     "output_type": "execute_result"
    }
   ],
   "source": [
    "mlflow.set_experiment(\"logistic\")"
   ]
  },
  {
   "cell_type": "code",
   "execution_count": 33,
   "id": "64aa2567-9e79-4741-9b45-00a85125a21c",
   "metadata": {},
   "outputs": [],
   "source": [
    "import numpy as np\n",
    "import pandas as pd\n",
    "import seaborn as sns\n",
    "import matplotlib.pyplot as plt\n",
    "from sklearn.model_selection import train_test_split\n",
    "from sklearn.preprocessing import LabelEncoder, StandardScaler\n",
    "from sklearn.metrics import accuracy_score, classification_report\n",
    "from sklearn.metrics import confusion_matrix, ConfusionMatrixDisplay\n",
    "from sklearn.utils.class_weight import compute_class_weight\n",
    "\n",
    "from sklearn.linear_model import LogisticRegression\n",
    "from sklearn.ensemble import RandomForestClassifier\n",
    "from sklearn.svm import SVC\n",
    "from xgboost import XGBClassifier\n",
    "\n",
    "from pytorch_tabnet.tab_model import TabNetClassifier\n",
    "\n",
    "import warnings\n",
    "warnings.filterwarnings('ignore')"
   ]
  },
  {
   "cell_type": "code",
   "execution_count": 21,
   "id": "4d794586-66bc-4167-8bb9-b4de64652840",
   "metadata": {},
   "outputs": [
    {
     "data": {
      "text/html": [
       "<div>\n",
       "<style scoped>\n",
       "    .dataframe tbody tr th:only-of-type {\n",
       "        vertical-align: middle;\n",
       "    }\n",
       "\n",
       "    .dataframe tbody tr th {\n",
       "        vertical-align: top;\n",
       "    }\n",
       "\n",
       "    .dataframe thead th {\n",
       "        text-align: right;\n",
       "    }\n",
       "</style>\n",
       "<table border=\"1\" class=\"dataframe\">\n",
       "  <thead>\n",
       "    <tr style=\"text-align: right;\">\n",
       "      <th></th>\n",
       "      <th>Age</th>\n",
       "      <th>Gender</th>\n",
       "      <th>Height_cm</th>\n",
       "      <th>Weight_kg</th>\n",
       "      <th>BMI</th>\n",
       "      <th>Physical_Activity_Level</th>\n",
       "      <th>Diet_Type</th>\n",
       "      <th>Smoking_Habits</th>\n",
       "      <th>Alcohol_Consumption</th>\n",
       "      <th>Family_History_Obesity</th>\n",
       "      <th>Blood_Pressure</th>\n",
       "      <th>Cholesterol_Levels</th>\n",
       "      <th>Education_Level</th>\n",
       "      <th>Income_Level</th>\n",
       "      <th>Geographical_Region</th>\n",
       "      <th>Obesity_Status</th>\n",
       "    </tr>\n",
       "  </thead>\n",
       "  <tbody>\n",
       "    <tr>\n",
       "      <th>0</th>\n",
       "      <td>56</td>\n",
       "      <td>0</td>\n",
       "      <td>172.005936</td>\n",
       "      <td>68.686179</td>\n",
       "      <td>23.215738</td>\n",
       "      <td>4</td>\n",
       "      <td>1</td>\n",
       "      <td>2</td>\n",
       "      <td>0</td>\n",
       "      <td>1</td>\n",
       "      <td>Hypertension Stage 2</td>\n",
       "      <td>2</td>\n",
       "      <td>1</td>\n",
       "      <td>3</td>\n",
       "      <td>2</td>\n",
       "      <td>Normal weight</td>\n",
       "    </tr>\n",
       "    <tr>\n",
       "      <th>1</th>\n",
       "      <td>69</td>\n",
       "      <td>1</td>\n",
       "      <td>161.678497</td>\n",
       "      <td>79.937723</td>\n",
       "      <td>30.580688</td>\n",
       "      <td>2</td>\n",
       "      <td>0</td>\n",
       "      <td>0</td>\n",
       "      <td>0</td>\n",
       "      <td>0</td>\n",
       "      <td>Elevated</td>\n",
       "      <td>1</td>\n",
       "      <td>2</td>\n",
       "      <td>1</td>\n",
       "      <td>3</td>\n",
       "      <td>Obese</td>\n",
       "    </tr>\n",
       "    <tr>\n",
       "      <th>2</th>\n",
       "      <td>46</td>\n",
       "      <td>1</td>\n",
       "      <td>172.078597</td>\n",
       "      <td>99.707918</td>\n",
       "      <td>33.672545</td>\n",
       "      <td>4</td>\n",
       "      <td>1</td>\n",
       "      <td>1</td>\n",
       "      <td>1</td>\n",
       "      <td>0</td>\n",
       "      <td>Normal</td>\n",
       "      <td>3</td>\n",
       "      <td>2</td>\n",
       "      <td>3</td>\n",
       "      <td>2</td>\n",
       "      <td>Obese</td>\n",
       "    </tr>\n",
       "    <tr>\n",
       "      <th>3</th>\n",
       "      <td>32</td>\n",
       "      <td>1</td>\n",
       "      <td>176.845709</td>\n",
       "      <td>76.314302</td>\n",
       "      <td>24.401520</td>\n",
       "      <td>1</td>\n",
       "      <td>2</td>\n",
       "      <td>0</td>\n",
       "      <td>1</td>\n",
       "      <td>0</td>\n",
       "      <td>Normal</td>\n",
       "      <td>3</td>\n",
       "      <td>1</td>\n",
       "      <td>2</td>\n",
       "      <td>1</td>\n",
       "      <td>Normal weight</td>\n",
       "    </tr>\n",
       "    <tr>\n",
       "      <th>4</th>\n",
       "      <td>60</td>\n",
       "      <td>1</td>\n",
       "      <td>170.875161</td>\n",
       "      <td>84.397860</td>\n",
       "      <td>28.905039</td>\n",
       "      <td>2</td>\n",
       "      <td>1</td>\n",
       "      <td>0</td>\n",
       "      <td>2</td>\n",
       "      <td>1</td>\n",
       "      <td>Elevated</td>\n",
       "      <td>2</td>\n",
       "      <td>3</td>\n",
       "      <td>3</td>\n",
       "      <td>2</td>\n",
       "      <td>Overweight</td>\n",
       "    </tr>\n",
       "  </tbody>\n",
       "</table>\n",
       "</div>"
      ],
      "text/plain": [
       "   Age  Gender   Height_cm  Weight_kg        BMI  Physical_Activity_Level  \\\n",
       "0   56       0  172.005936  68.686179  23.215738                        4   \n",
       "1   69       1  161.678497  79.937723  30.580688                        2   \n",
       "2   46       1  172.078597  99.707918  33.672545                        4   \n",
       "3   32       1  176.845709  76.314302  24.401520                        1   \n",
       "4   60       1  170.875161  84.397860  28.905039                        2   \n",
       "\n",
       "   Diet_Type  Smoking_Habits  Alcohol_Consumption  Family_History_Obesity  \\\n",
       "0          1               2                    0                       1   \n",
       "1          0               0                    0                       0   \n",
       "2          1               1                    1                       0   \n",
       "3          2               0                    1                       0   \n",
       "4          1               0                    2                       1   \n",
       "\n",
       "         Blood_Pressure  Cholesterol_Levels  Education_Level  Income_Level  \\\n",
       "0  Hypertension Stage 2                   2                1             3   \n",
       "1              Elevated                   1                2             1   \n",
       "2                Normal                   3                2             3   \n",
       "3                Normal                   3                1             2   \n",
       "4              Elevated                   2                3             3   \n",
       "\n",
       "   Geographical_Region Obesity_Status  \n",
       "0                    2  Normal weight  \n",
       "1                    3          Obese  \n",
       "2                    2          Obese  \n",
       "3                    1  Normal weight  \n",
       "4                    2     Overweight  "
      ]
     },
     "execution_count": 21,
     "metadata": {},
     "output_type": "execute_result"
    }
   ],
   "source": [
    "df = pd.read_excel(r\"E:\\infosys internship\\obesity_data_with_status_50000.xlsx\")\n",
    "df.head()"
   ]
  },
  {
   "cell_type": "code",
   "execution_count": 22,
   "id": "2d1cee48-27b1-40fc-9d45-21d53147ae38",
   "metadata": {},
   "outputs": [
    {
     "data": {
      "text/plain": [
       "(50000, 16)"
      ]
     },
     "execution_count": 22,
     "metadata": {},
     "output_type": "execute_result"
    }
   ],
   "source": [
    "df.shape"
   ]
  },
  {
   "cell_type": "code",
   "execution_count": 23,
   "id": "2ddb8215-048c-4b81-9fdf-ba72da6fbe18",
   "metadata": {},
   "outputs": [],
   "source": [
    "label_encoder = LabelEncoder()\n",
    "df['Obesity_Status'] = label_encoder.fit_transform(df['Obesity_Status'])\n",
    "df['Blood_Pressure'] = label_encoder.fit_transform(df['Blood_Pressure'])"
   ]
  },
  {
   "cell_type": "code",
   "execution_count": 24,
   "id": "8b1fdbd5-0ec7-4369-a9f8-8dad703f8a7c",
   "metadata": {},
   "outputs": [
    {
     "name": "stdout",
     "output_type": "stream",
     "text": [
      "Data shape after outlier removal: (49744, 16)\n"
     ]
    }
   ],
   "source": [
    "def remove_outliers_zscore(df, column_names, threshold=3):\n",
    "    z_scores = np.abs((df[column_names] - df[column_names].mean()) / df[column_names].std())\n",
    "    filtered_df = df[(z_scores < threshold).all(axis=1)]\n",
    "    return filtered_df\n",
    "\n",
    "continuous_columns = ['Height_cm', 'Weight_kg']\n",
    "df_cleaned = remove_outliers_zscore(df, continuous_columns)\n",
    "\n",
    "print(f\"Data shape after outlier removal: {df_cleaned.shape}\")"
   ]
  },
  {
   "cell_type": "code",
   "execution_count": 25,
   "id": "d7ee28ef-f00f-4a92-8635-b8b3bdaf94fe",
   "metadata": {},
   "outputs": [],
   "source": [
    "scaler = StandardScaler()\n",
    "df_cleaned[['Height_cm', 'Weight_kg']] = scaler.fit_transform(df_cleaned[['Height_cm', 'Weight_kg']])"
   ]
  },
  {
   "cell_type": "code",
   "execution_count": 26,
   "id": "84f7bf31-7343-494f-89d9-509b9d73f2d9",
   "metadata": {},
   "outputs": [
    {
     "name": "stdout",
     "output_type": "stream",
     "text": [
      "New class distribution after augmentation:\n",
      "Obesity_Status\n",
      "3    18308\n",
      "0    17442\n",
      "2    15094\n",
      "1    12631\n",
      "Name: count, dtype: int64\n"
     ]
    }
   ],
   "source": [
    "class_counts = df_cleaned['Obesity_Status'].value_counts()\n",
    "\n",
    "scale_factor = class_counts.max() / class_counts\n",
    "\n",
    "def augment_data(df, target_col, scale_factor):\n",
    "    frames = []\n",
    "    for label, factor in scale_factor.items():\n",
    "        df_class = df[df[target_col] == label]\n",
    "        df_class_replicated = pd.concat([df_class] * int(np.round(factor)), ignore_index=True)\n",
    "        frames.append(df_class_replicated)\n",
    "\n",
    "    df_augmented = pd.concat(frames).sample(frac=1).reset_index(drop=True)  # Shuffle the data\n",
    "    return df_augmented\n",
    "\n",
    "df_augmented = augment_data(df_cleaned, 'Obesity_Status', scale_factor)\n",
    "print(f\"New class distribution after augmentation:\\n{df_augmented['Obesity_Status'].value_counts()}\")"
   ]
  },
  {
   "cell_type": "code",
   "execution_count": 27,
   "id": "70cddfcf-3ba0-4da3-bab8-dca1d9fa7315",
   "metadata": {},
   "outputs": [
    {
     "name": "stdout",
     "output_type": "stream",
     "text": [
      "Outliers in Obesity_Status column: 0\n"
     ]
    }
   ],
   "source": [
    "Q1 = df_augmented['Obesity_Status'].quantile(0.25)\n",
    "Q3 = df_augmented['Obesity_Status'].quantile(0.75)\n",
    "IQR = Q3 - Q1\n",
    "\n",
    "\n",
    "lower_bound = Q1 - 1.5 * IQR\n",
    "upper_bound = Q3 + 1.5 * IQR\n",
    "\n",
    "outliers = df_augmented[(df_augmented['Obesity_Status'] < lower_bound) | (df_augmented['Obesity_Status'] > upper_bound)]\n",
    "\n",
    "print(\"Outliers in Obesity_Status column:\", len(outliers))"
   ]
  },
  {
   "cell_type": "code",
   "execution_count": 28,
   "id": "8b73fed6-acc2-47c4-a300-2b312f1f4731",
   "metadata": {},
   "outputs": [
    {
     "name": "stdout",
     "output_type": "stream",
     "text": [
      "Training set shape: (44432, 15)\n",
      "Validation set shape: (9521, 15)\n",
      "Test set shape: (9522, 15)\n"
     ]
    }
   ],
   "source": [
    "X = df_augmented.drop('Obesity_Status', axis=1)\n",
    "y = df_augmented['Obesity_Status']\n",
    "\n",
    "X_train, X_temp, y_train, y_temp = train_test_split(X, y, test_size=0.3, random_state=42)  # 70% train\n",
    "X_val, X_test, y_val, y_test = train_test_split(X_temp, y_temp, test_size=0.5, random_state=42)  # 15% validation, 15% test\n",
    "\n",
    "print(f\"Training set shape: {X_train.shape}\")\n",
    "print(f\"Validation set shape: {X_val.shape}\")\n",
    "print(f\"Test set shape: {X_test.shape}\")"
   ]
  },
  {
   "cell_type": "code",
   "execution_count": 46,
   "id": "8440b1b7-7d27-4947-bb4a-84c9c2bca364",
   "metadata": {},
   "outputs": [
    {
     "name": "stdout",
     "output_type": "stream",
     "text": [
      "Logistic Regression Accuracy: 0.9782585862829535\n"
     ]
    },
    {
     "name": "stderr",
     "output_type": "stream",
     "text": [
      "2024/10/29 17:09:46 WARNING mlflow.models.model: Model logged without a signature and input example. Please set `input_example` parameter when logging the model to auto infer the model signature.\n"
     ]
    }
   ],
   "source": [
    "with mlflow.start_run(run_name=\"Run6\"):\n",
    "    \n",
    "    \n",
    "    log_reg = LogisticRegression(max_iter=200)  \n",
    "    log_reg.fit(X_train, y_train)\n",
    "    \n",
    "    \n",
    "    y_pred_log_reg = log_reg.predict(X_val)\n",
    "    \n",
    "    \n",
    "    accuracy = accuracy_score(y_val, y_pred_log_reg)\n",
    "    print(f\"Logistic Regression Accuracy: {accuracy}\")\n",
    "\n",
    "    \n",
    "    mlflow.log_param(\"model_type\", \"Logistic Regression\")\n",
    "    mlflow.log_param(\"max_iter\", log_reg.max_iter)\n",
    "    \n",
    "    \n",
    "    mlflow.log_metric(\"accuracy\", accuracy)\n",
    "\n",
    "    mlflow.sklearn.log_model(log_reg, \"logistic_regression_model\")\n",
    "\n",
    "    \n",
    "    cm = confusion_matrix(y_val, y_pred_log_reg)\n",
    "\n",
    "    plt.figure(figsize=(8, 6))  \n",
    "    sns.heatmap(cm, annot=True, fmt='d', cmap='Blues')\n",
    "    cm_path = \"obesity predicting/confusion_matrix.png\"\n",
    "    plt.savefig(cm_path) \n",
    "    plt.close()\n",
    "\n",
    "    plt.show()\n",
    "\n",
    "    mlflow.log_artifact(cm_path)\n",
    "    mlflow.log_artifact(r\"C:\\Users\\91637\\obesity predicting\\obesity predicting\\logistic.py\")\n"
   ]
  },
  {
   "cell_type": "code",
   "execution_count": 47,
   "id": "a8a00522-30a0-4380-9b2d-40fd430cfb81",
   "metadata": {},
   "outputs": [
    {
     "name": "stderr",
     "output_type": "stream",
     "text": [
      "2024/10/29 17:10:57 INFO mlflow.tracking.fluent: Experiment with name 'SVM' does not exist. Creating a new experiment.\n"
     ]
    },
    {
     "data": {
      "text/plain": [
       "<Experiment: artifact_location='file:///C:/Users/91637/obesity predicting/mlruns/902357956030472999', creation_time=1730202057950, experiment_id='902357956030472999', last_update_time=1730202057950, lifecycle_stage='active', name='SVM', tags={}>"
      ]
     },
     "execution_count": 47,
     "metadata": {},
     "output_type": "execute_result"
    }
   ],
   "source": [
    "mlflow.set_experiment(\"SVM\")"
   ]
  },
  {
   "cell_type": "code",
   "execution_count": null,
   "id": "8cd7ece7-6802-44a7-bec5-7ad007417ba8",
   "metadata": {},
   "outputs": [],
   "source": []
  }
 ],
 "metadata": {
  "kernelspec": {
   "display_name": "Python 3 (ipykernel)",
   "language": "python",
   "name": "python3"
  },
  "language_info": {
   "codemirror_mode": {
    "name": "ipython",
    "version": 3
   },
   "file_extension": ".py",
   "mimetype": "text/x-python",
   "name": "python",
   "nbconvert_exporter": "python",
   "pygments_lexer": "ipython3",
   "version": "3.11.9"
  }
 },
 "nbformat": 4,
 "nbformat_minor": 5
}
